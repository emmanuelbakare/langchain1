{
 "cells": [
  {
   "cell_type": "code",
   "execution_count": 1,
   "id": "7738178e-a78c-4a34-8219-cb74752aa9ff",
   "metadata": {},
   "outputs": [],
   "source": [
    "stuff = []"
   ]
  },
  {
   "cell_type": "code",
   "execution_count": 2,
   "id": "0fb83637-6b1e-4828-a880-f63fd29627d8",
   "metadata": {},
   "outputs": [
    {
     "name": "stdout",
     "output_type": "stream",
     "text": [
      "[['God is good to me']]\n"
     ]
    }
   ],
   "source": [
    "data1 = [\"God is good to me\"]\n",
    "stuff.append(data1)\n",
    "print(stuff)"
   ]
  },
  {
   "cell_type": "code",
   "execution_count": 3,
   "id": "b4d961ed-5af9-4efd-808e-315a4bd7c7ca",
   "metadata": {},
   "outputs": [
    {
     "name": "stdout",
     "output_type": "stream",
     "text": [
      "[['God is good to me'], 'Oh my soul right up and praise the Lord']\n"
     ]
    }
   ],
   "source": [
    "stuff.append(\"Oh my soul right up and praise the Lord\")\n",
    "print(stuff)"
   ]
  },
  {
   "cell_type": "code",
   "execution_count": 4,
   "id": "910d0e72-4b73-468e-a283-ee068997113c",
   "metadata": {},
   "outputs": [
    {
     "name": "stdout",
     "output_type": "stream",
     "text": [
      "[['God is good to me'], 'Oh my soul right up and praise the Lord', '******************************']\n"
     ]
    }
   ],
   "source": [
    "stuff.append(\"*\"*30)\n",
    "print(stuff)"
   ]
  },
  {
   "cell_type": "code",
   "execution_count": null,
   "id": "029af7d7-96b6-4dd7-bc9e-660d100351d8",
   "metadata": {},
   "outputs": [],
   "source": []
  }
 ],
 "metadata": {
  "kernelspec": {
   "display_name": "Python 3 (ipykernel)",
   "language": "python",
   "name": "python3"
  },
  "language_info": {
   "codemirror_mode": {
    "name": "ipython",
    "version": 3
   },
   "file_extension": ".py",
   "mimetype": "text/x-python",
   "name": "python",
   "nbconvert_exporter": "python",
   "pygments_lexer": "ipython3",
   "version": "3.12.4"
  }
 },
 "nbformat": 4,
 "nbformat_minor": 5
}
