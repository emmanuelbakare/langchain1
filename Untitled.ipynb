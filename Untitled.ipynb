{
 "cells": [
  {
   "cell_type": "code",
   "execution_count": 15,
   "id": "836ae28b-307e-422f-8442-ac25a8467d30",
   "metadata": {},
   "outputs": [
    {
     "name": "stdout",
     "output_type": "stream",
     "text": [
      "['boy', 'Say Soomething', 'Hello Segun']\n"
     ]
    }
   ],
   "source": [
    "def talk_out():\n",
    "    def talk_in():\n",
    "        return \"Say Soomething\"\n",
    "\n",
    "    class CodeMaker:\n",
    "        def __init__(self, name):\n",
    "            self.name= f\"Hello {name}\"\n",
    "    return [\"boy\", talk_in(), CodeMaker(\"Segun\").name]\n",
    "\n",
    "        \n",
    "\n",
    "print(talk_out())"
   ]
  },
  {
   "cell_type": "code",
   "execution_count": 9,
   "id": "598d693d-33e5-4393-9ad9-bccab25baea5",
   "metadata": {},
   "outputs": [],
   "source": [
    "class CodeMaker:\n",
    "        def __init__(self, name):\n",
    "            self.name= name\n",
    "\n",
    "        def __str__(self):\n",
    "            return f\"Hello {self.name}\""
   ]
  },
  {
   "cell_type": "code",
   "execution_count": 11,
   "id": "a1736882-ac63-49e4-aa82-41436f6f6570",
   "metadata": {},
   "outputs": [],
   "source": [
    "kk=CodeMaker(\"Segun\")"
   ]
  },
  {
   "cell_type": "raw",
   "id": "475c3d30-b244-46bf-a5fc-aa0b92d8ef85",
   "metadata": {},
   "source": [
    "print(kk)"
   ]
  },
  {
   "cell_type": "code",
   "execution_count": 23,
   "id": "4d131048-009d-4917-ba9a-0e37e06b4475",
   "metadata": {},
   "outputs": [
    {
     "name": "stdout",
     "output_type": "stream",
     "text": [
      "OUTPUT\n",
      "*******\n"
     ]
    }
   ],
   "source": [
    "print(f\"OUTPUT\\n{'*'*7}\")"
   ]
  },
  {
   "cell_type": "code",
   "execution_count": 31,
   "id": "24523e1e-6829-4d19-a40d-2c65358c755e",
   "metadata": {},
   "outputs": [],
   "source": [
    "result = [{'text': \"Certainly! I'll create a database schema for an Employee Management System based on your guidelines. Here's the suggested schema:\\n\\nSCHEMA SUGGESTION FOR EMPLOYEE MANAGEMENT SYSTEM\\n=================================================\\n\\n1. Employee\\n   - id (AutoField, primary key)\\n   - first_name (CharField)\\n   - last_name (CharField)\\n   - email (EmailField, unique)\\n   - phone_number (CharField)\\n   - date_of_birth (DateField)\\n   - hire_date (DateField)\\n   - job_title (CharField)\\n   - department (ForeignKey to Department)\\n   - manager (ForeignKey to Employee, nullable)\\n   - salary (DecimalField)\\n  - is_active (BooleanField)\\n\\n2. Department\\n   - id (AutoField, primary key)\\n   - name (CharField)\\n   - description (TextField)\\n   - manager (ForeignKey to Employee, related_name='managed_department', nullable)\\n\\n3. Attendance\\n   - id (AutoField, primary key)\\n   - employee (ForeignKey to Employee)\\n   - date (DateField)\\n   - time_in (TimeField)\\n   - time_out (TimeField)\\n   - status (CharField, choices: Present, Absent, Late, Half-day)\\n\\n4. Leave\\n   - id (AutoField, primary key)\\n   - employee (ForeignKey to Employee)\\n   - start_date (DateField)\\n   - end_date (DateField)\\n   - leave_type (CharField, choices: Sick, Vacation, Personal, etc.)\\n   - status (CharField, choices: Pending, Approved, Rejected)\\n   - reason (TextField)\\n\\n5. Performance\\n   - id (AutoField, primary key)\\n   - employee (ForeignKey to Employee)\\n   - review_date (DateField)\\n  - reviewer (ForeignKey to Employee, related_name='reviews_given')\\n   - rating (IntegerField)\\n   - comments (TextField)\\n\\n6. Project\\n   - id (AutoField, primary key)\\n   - name (CharField)\\n   - description (TextField)\\n   - start_date (DateField)\\n   - end_date (DateField)\\n   - status (CharField, choices: Not Started, In Progress, Completed, On Hold)\\n\\n7. EmployeeProject\\n   - id (AutoField, primary key)\\n   - employee (ForeignKey to Employee)\\n   - project (ForeignKey to Project)\\n   - role (CharField)\\n   - start_date (DateField)\\n   - end_date (DateField, nullable)\\n\\nType 'OK' if you are satisfied with this schema or further more instruction to modify (Add, update, Delete) any item in the schema\", 'type': 'text', 'index': 0}] \n"
   ]
  },
  {
   "cell_type": "code",
   "execution_count": 35,
   "id": "00afb3f5-d368-444b-a180-42e94b85bab6",
   "metadata": {},
   "outputs": [
    {
     "data": {
      "text/plain": [
       "\"Certainly! I'll create a database schema for an Employee Management System based on your guidelines. Here's the suggested schema:\\n\\nSCHEMA SUGGESTION FOR EMPLOYEE MANAGEMENT SYSTEM\\n=================================================\\n\\n1. Employee\\n   - id (AutoField, primary key)\\n   - first_name (CharField)\\n   - last_name (CharField)\\n   - email (EmailField, unique)\\n   - phone_number (CharField)\\n   - date_of_birth (DateField)\\n   - hire_date (DateField)\\n   - job_title (CharField)\\n   - department (ForeignKey to Department)\\n   - manager (ForeignKey to Employee, nullable)\\n   - salary (DecimalField)\\n  - is_active (BooleanField)\\n\\n2. Department\\n   - id (AutoField, primary key)\\n   - name (CharField)\\n   - description (TextField)\\n   - manager (ForeignKey to Employee, related_name='managed_department', nullable)\\n\\n3. Attendance\\n   - id (AutoField, primary key)\\n   - employee (ForeignKey to Employee)\\n   - date (DateField)\\n   - time_in (TimeField)\\n   - time_out (TimeField)\\n   - status (CharField, choices: Present, Absent, Late, Half-day)\\n\\n4. Leave\\n   - id (AutoField, primary key)\\n   - employee (ForeignKey to Employee)\\n   - start_date (DateField)\\n   - end_date (DateField)\\n   - leave_type (CharField, choices: Sick, Vacation, Personal, etc.)\\n   - status (CharField, choices: Pending, Approved, Rejected)\\n   - reason (TextField)\\n\\n5. Performance\\n   - id (AutoField, primary key)\\n   - employee (ForeignKey to Employee)\\n   - review_date (DateField)\\n  - reviewer (ForeignKey to Employee, related_name='reviews_given')\\n   - rating (IntegerField)\\n   - comments (TextField)\\n\\n6. Project\\n   - id (AutoField, primary key)\\n   - name (CharField)\\n   - description (TextField)\\n   - start_date (DateField)\\n   - end_date (DateField)\\n   - status (CharField, choices: Not Started, In Progress, Completed, On Hold)\\n\\n7. EmployeeProject\\n   - id (AutoField, primary key)\\n   - employee (ForeignKey to Employee)\\n   - project (ForeignKey to Project)\\n   - role (CharField)\\n   - start_date (DateField)\\n   - end_date (DateField, nullable)\\n\\nType 'OK' if you are satisfied with this schema or further more instruction to modify (Add, update, Delete) any item in the schema\""
      ]
     },
     "execution_count": 35,
     "metadata": {},
     "output_type": "execute_result"
    }
   ],
   "source": [
    "result[0]['text']"
   ]
  },
  {
   "cell_type": "code",
   "execution_count": null,
   "id": "b69d6402-c8c7-4257-836a-9d707e87d399",
   "metadata": {},
   "outputs": [],
   "source": []
  }
 ],
 "metadata": {
  "kernelspec": {
   "display_name": "Python (myenv)",
   "language": "python",
   "name": "myenv"
  },
  "language_info": {
   "codemirror_mode": {
    "name": "ipython",
    "version": 3
   },
   "file_extension": ".py",
   "mimetype": "text/x-python",
   "name": "python",
   "nbconvert_exporter": "python",
   "pygments_lexer": "ipython3",
   "version": "3.10.10"
  }
 },
 "nbformat": 4,
 "nbformat_minor": 5
}
