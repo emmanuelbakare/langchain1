{
 "cells": [
  {
   "cell_type": "code",
   "execution_count": 1,
   "id": "369bc4cf-6348-4d2d-83f0-55675015ee77",
   "metadata": {},
   "outputs": [],
   "source": [
    "import sqlite3"
   ]
  },
  {
   "cell_type": "code",
   "execution_count": 8,
   "id": "f88db4d0-dec8-478e-a2e7-7e465ca0db23",
   "metadata": {},
   "outputs": [],
   "source": [
    "conn= sqlite3.connect(\"../db.sqlite\")\n",
    "\n",
    "def get_db_schema(*args, **kwargs):\n",
    "    \n",
    "    # Connect to the SQLite database\n",
    "    cursor = conn.cursor()\n",
    "    \n",
    "    # Get the list of all tables in the database\n",
    "    cursor.execute(\"SELECT name FROM sqlite_master WHERE type='table';\")\n",
    "    tables = cursor.fetchall()\n",
    "\n",
    "    # Dictionary to hold schema information\n",
    "    schema = {}\n",
    "\n",
    "    # Loop through all the tables and get their column information\n",
    "    for table in tables:\n",
    "        table_name = table[0]\n",
    "        cursor.execute(f\"PRAGMA table_info({table_name});\")\n",
    "        columns = cursor.fetchall()\n",
    "        \n",
    "        # Extract the column names\n",
    "        column_names = tuple(column[1] for column in columns)\n",
    "        \n",
    "        # Add the table and its columns to the schema dictionary\n",
    "        schema[table_name] = column_names\n",
    "\n",
    "    # Close the connection\n",
    "    # conn.close()\n",
    "\n",
    "    return schema"
   ]
  },
  {
   "cell_type": "code",
   "execution_count": 9,
   "id": "9f85641a-0b8e-4b55-9318-42a51828bc2f",
   "metadata": {},
   "outputs": [],
   "source": [
    "result = get_db_schema()"
   ]
  },
  {
   "cell_type": "code",
   "execution_count": 10,
   "id": "cf7a97ef-b017-4448-8986-db43bf68ed28",
   "metadata": {},
   "outputs": [
    {
     "name": "stdout",
     "output_type": "stream",
     "text": [
      "{'users': ('id', 'name', 'email', 'password'), 'addresses': ('id', 'user_id', 'address'), 'products': ('id', 'name', 'price'), 'carts': ('id', 'user_id', 'product_id', 'quantity'), 'orders': ('id', 'user_id', 'created'), 'order_products': ('id', 'order_id', 'product_id', 'amount')}\n"
     ]
    }
   ],
   "source": [
    "print(result)"
   ]
  },
  {
   "cell_type": "code",
   "execution_count": 12,
   "id": "929d9090-cc15-4728-bd35-0895b5e9d19f",
   "metadata": {},
   "outputs": [
    {
     "data": {
      "text/plain": [
       "\"{'users': ('id', 'name', 'email', 'password'), 'addresses': ('id', 'user_id', 'address'), 'products'\""
      ]
     },
     "execution_count": 12,
     "metadata": {},
     "output_type": "execute_result"
    }
   ],
   "source": [
    "str(result)[:100]"
   ]
  },
  {
   "cell_type": "code",
   "execution_count": null,
   "id": "07e81fdd-3f04-47b0-aba1-9f07623ffc8f",
   "metadata": {},
   "outputs": [],
   "source": []
  }
 ],
 "metadata": {
  "kernelspec": {
   "display_name": "Python (myenv)",
   "language": "python",
   "name": "myenv"
  },
  "language_info": {
   "codemirror_mode": {
    "name": "ipython",
    "version": 3
   },
   "file_extension": ".py",
   "mimetype": "text/x-python",
   "name": "python",
   "nbconvert_exporter": "python",
   "pygments_lexer": "ipython3",
   "version": "3.10.10"
  }
 },
 "nbformat": 4,
 "nbformat_minor": 5
}
