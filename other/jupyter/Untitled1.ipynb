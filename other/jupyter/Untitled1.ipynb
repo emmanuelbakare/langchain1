{
 "cells": [
  {
   "cell_type": "code",
   "execution_count": 1,
   "id": "d2c5b1ce-31ee-4d3f-9622-299c8f219044",
   "metadata": {},
   "outputs": [],
   "source": [
    "import sqlite3"
   ]
  },
  {
   "cell_type": "code",
   "execution_count": 13,
   "id": "f7b57cad-f137-4610-a343-9bba2b30a066",
   "metadata": {},
   "outputs": [],
   "source": [
    "conn = sqlite3.connect(\"../db.sqlite\")\n",
    "def run_query(query):\n",
    "    cursor =conn.cursor()\n",
    "    cursor.execute(query)\n",
    "    return cursor.fetchall()\n",
    "    "
   ]
  },
  {
   "cell_type": "code",
   "execution_count": 21,
   "id": "43bb3f8a-9a57-429f-894c-b5fa7d1a5c43",
   "metadata": {},
   "outputs": [],
   "source": [
    "product_sql = \"\"\"SELECT \n",
    "    p.name AS product_name, \n",
    "    COUNT(op.product_id) AS times_ordered, \n",
    "    SUM(op.amount) AS total_amount_sold\n",
    "FROM \n",
    "    products p\n",
    "LEFT JOIN \n",
    "    order_products op ON p.id = op.product_id\n",
    "GROUP BY \n",
    "    p.id\n",
    "ORDER BY \n",
    "    total_amount_sold DESC\n",
    "    LIMIT 100;\"\"\""
   ]
  },
  {
   "cell_type": "code",
   "execution_count": 22,
   "id": "65c0388e-21f6-4402-b39b-cc8a0d99cca1",
   "metadata": {},
   "outputs": [
    {
     "name": "stdout",
     "output_type": "stream",
     "text": [
      "100\n"
     ]
    }
   ],
   "source": [
    "query=\"\"\n",
    "result = run_query(product_sql)\n",
    "print(len(result))"
   ]
  },
  {
   "cell_type": "code",
   "execution_count": null,
   "id": "e75482a6-af06-46aa-9aa6-1fb8b866137b",
   "metadata": {},
   "outputs": [],
   "source": []
  }
 ],
 "metadata": {
  "kernelspec": {
   "display_name": "Python (myenv)",
   "language": "python",
   "name": "myenv"
  },
  "language_info": {
   "codemirror_mode": {
    "name": "ipython",
    "version": 3
   },
   "file_extension": ".py",
   "mimetype": "text/x-python",
   "name": "python",
   "nbconvert_exporter": "python",
   "pygments_lexer": "ipython3",
   "version": "3.10.10"
  }
 },
 "nbformat": 4,
 "nbformat_minor": 5
}
