{
 "cells": [
  {
   "cell_type": "code",
   "execution_count": 1,
   "id": "6224c8e7-64dd-41ff-959b-ceaefb612894",
   "metadata": {},
   "outputs": [],
   "source": [
    "import os\n"
   ]
  },
  {
   "cell_type": "code",
   "execution_count": 4,
   "id": "31b3ec81-1841-4090-833a-4967b6d9bdbb",
   "metadata": {},
   "outputs": [
    {
     "name": "stdout",
     "output_type": "stream",
     "text": [
      "Get CWD C:\\codes\\AI\\langchain1\\codes \n",
      "Absoulte path of CWS os.path.abspath(os.getcwd()) C:\\codes\\AI\\langchain1\\codes \n",
      " Directory Name of ABS CWD os.path.dirname(os.path.dirname(os.path.abspath(os.getcwd()))) C:\\codes\\AI\n"
     ]
    }
   ],
   "source": [
    "print(\"Get CWD\",os.getcwd(), \"\\nAbsoulte path of CWS os.path.abspath(os.getcwd())\",os.path.abspath(os.getcwd()),\"\\n Directory Name of ABS CWD os.path.dirname(os.path.dirname(os.path.abspath(os.getcwd())))\",os.path.dirname(os.path.dirname(os.path.abspath(os.getcwd()))))"
   ]
  },
  {
   "cell_type": "code",
   "execution_count": 7,
   "id": "667db6c8-2a89-437f-9645-046814417125",
   "metadata": {},
   "outputs": [
    {
     "name": "stdout",
     "output_type": "stream",
     "text": [
      "C:\\codes\\AI\\langchain1\\codes\\generated\n"
     ]
    }
   ],
   "source": [
    "script_dir = os.path.abspath(os.getcwd())\n",
    "generated_path = os.path.join(script_dir, 'generated')\n",
    "print(generated_path)\n"
   ]
  },
  {
   "cell_type": "code",
   "execution_count": null,
   "id": "ead3abab-4d90-4c1e-ba7b-e1b6a7fe443d",
   "metadata": {},
   "outputs": [],
   "source": [
    "os.path.exists(generated_path)"
   ]
  }
 ],
 "metadata": {
  "kernelspec": {
   "display_name": "Python 3 (ipykernel)",
   "language": "python",
   "name": "python3"
  },
  "language_info": {
   "codemirror_mode": {
    "name": "ipython",
    "version": 3
   },
   "file_extension": ".py",
   "mimetype": "text/x-python",
   "name": "python",
   "nbconvert_exporter": "python",
   "pygments_lexer": "ipython3",
   "version": "3.12.4"
  }
 },
 "nbformat": 4,
 "nbformat_minor": 5
}
