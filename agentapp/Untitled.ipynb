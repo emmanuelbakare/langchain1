{
 "cells": [
  {
   "cell_type": "code",
   "execution_count": 4,
   "id": "62dc4fd0",
   "metadata": {},
   "outputs": [],
   "source": [
    "import sqlite3\n",
    "\n",
    "conn = sqlite3.connect(\"db.sqlite\")\n",
    "\n",
    "def query(query):\n",
    "    c = conn.cursor()\n",
    "    c.execute(query)\n",
    "    return c.fetchall()\n",
    "    \n",
    "    "
   ]
  },
  {
   "cell_type": "code",
   "execution_count": 7,
   "id": "01e71c20",
   "metadata": {},
   "outputs": [
    {
     "name": "stdout",
     "output_type": "stream",
     "text": [
      "[(2000,)]\n"
     ]
    }
   ],
   "source": [
    "result = query(\"select count(*) from users\")\n",
    "print(result)"
   ]
  },
  {
   "cell_type": "code",
   "execution_count": 6,
   "id": "db66d9ac",
   "metadata": {},
   "outputs": [
    {
     "name": "stdout",
     "output_type": "stream",
     "text": [
      "[(1, 'Marvin Mejia', 'david11@example.net', 'Z2QcvXwY%O'), (2, 'Michael Randolph', 'selenamadden@example.com', 'Exnd*2NmPs'), (3, 'David Parker', 'nielsenwendy@example.com', '4F+A0gHg!b')]\n"
     ]
    }
   ],
   "source": [
    "print(result)"
   ]
  },
  {
   "cell_type": "code",
   "execution_count": null,
   "id": "9fdf1622",
   "metadata": {},
   "outputs": [],
   "source": []
  }
 ],
 "metadata": {
  "kernelspec": {
   "display_name": "Python 3 (ipykernel)",
   "language": "python",
   "name": "python3"
  },
  "language_info": {
   "codemirror_mode": {
    "name": "ipython",
    "version": 3
   },
   "file_extension": ".py",
   "mimetype": "text/x-python",
   "name": "python",
   "nbconvert_exporter": "python",
   "pygments_lexer": "ipython3",
   "version": "3.10.6"
  }
 },
 "nbformat": 4,
 "nbformat_minor": 5
}
